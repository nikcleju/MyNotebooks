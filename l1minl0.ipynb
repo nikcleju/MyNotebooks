{
 "cells": [
  {
   "cell_type": "markdown",
   "metadata": {},
   "source": [
    "Plots the classic figure of $\\ell_p$ norm unit balls for various $p$"
   ]
  },
  {
   "cell_type": "code",
   "execution_count": 23,
   "metadata": {
    "collapsed": false
   },
   "outputs": [
    {
     "data": {
      "image/png": "[encoded data removed]",
      "text/plain": [
       "<matplotlib.figure.Figure at 0x68333d0>"
      ]
     },
     "metadata": {},
     "output_type": "display_data"
    }
   ],
   "source": [
    "%matplotlib inline\n",
    "import numpy\n",
    "import matplotlib.pylab as plt\n",
    "\n",
    "plt.rc('text', usetex=True)\n",
    "\n",
    "# Plot solutions to a linear equation\n",
    "x = numpy.linspace(-2,2.5,501)\n",
    "y = -0.5 * x + 1\n",
    "#plt.plot(x,y,label=r'y = -0.5x + 1')\n",
    "plt.plot(x,y,label=r'$1 = 0.5 x_1 + x_2$')\n",
    "\n",
    "# Plot the ell_p norms\n",
    "x = numpy.linspace(-1,1,501)\n",
    "x2 = numpy.hstack((x, x[::-1]))\n",
    "norms = [1, 0.2]\n",
    "normsstr = [r'Norma $\\ell_1$', \n",
    "            r'Norma $\\ell_{0.2}$']\n",
    "\n",
    "for norm, normstr in zip(norms, normsstr):\n",
    "    y = numpy.power( 1-numpy.power(numpy.abs(x),norm), (1./norm))\n",
    "    y2 = numpy.hstack((y, -y[::-1]))\n",
    "    \n",
    "    plt.plot(x2,y2,label=normstr)\n",
    "\n",
    "# Make figure nice    \n",
    "plt.legend()\n",
    "plt.axis('equal')\n",
    "plt.axis([-2.5, 2.5, -1.2, 1.2])\n",
    "\n",
    "# Move axes on center\n",
    "ax = plt.gca()\n",
    "ax.spines['right'].set_color('none')\n",
    "ax.spines['top'].set_color('none')\n",
    "ax.xaxis.set_ticks_position('bottom')\n",
    "ax.spines['bottom'].set_position(('data',0))\n",
    "ax.yaxis.set_ticks_position('left')\n",
    "ax.spines['left'].set_position(('data',0))\n",
    "# Show labels on top of axes with transparent background\n",
    "for label in ax.get_xticklabels() + ax.get_yticklabels():\n",
    "    label.set_fontsize(8)\n",
    "    label.set_bbox(dict(facecolor='white', edgecolor='None', alpha=0.65 ))\n",
    "\n",
    "# Uncomment the following lines to save (when running on local computer)\n",
    "filename = 'l1minl0'\n",
    "saveexts = ['png','pdf','eps']\n",
    "for ext in saveexts:\n",
    "    plt.savefig(filename + '.' + ext, bbox_inches='tight')"
   ]
  },
  {
   "cell_type": "code",
   "execution_count": null,
   "metadata": {
    "collapsed": true
   },
   "outputs": [],
   "source": []
  }
 ],
 "metadata": {
  "kernelspec": {
   "display_name": "Python 2",
   "language": "python",
   "name": "python2"
  },
  "language_info": {
   "codemirror_mode": {
    "name": "ipython",
    "version": 2
   },
   "file_extension": ".py",
   "mimetype": "text/x-python",
   "name": "python",
   "nbconvert_exporter": "python",
   "pygments_lexer": "ipython2",
   "version": "2.7.10"
  }
 },
 "nbformat": 4,
 "nbformat_minor": 0
}
